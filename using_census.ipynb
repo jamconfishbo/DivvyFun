{
 "cells": [
  {
   "cell_type": "code",
   "execution_count": 1,
   "id": "b6ff4d71",
   "metadata": {},
   "outputs": [
    {
     "name": "stdout",
     "output_type": "stream",
     "text": [
      "Requirement already satisfied: geojson in /Users/jakefischer/opt/anaconda3/lib/python3.8/site-packages (2.5.0)\r\n"
     ]
    }
   ],
   "source": [
    "import sys\n",
    "#!{sys.executable} -m pip install geojson\n",
    "\n",
    "import geojson\n",
    "import pandas as pd"
   ]
  },
  {
   "cell_type": "code",
   "execution_count": 2,
   "id": "abfecd92",
   "metadata": {},
   "outputs": [],
   "source": [
    "import geojson\n",
    "with open(r'/Users/jakefischer/desktop/Boundaries - Census Tracts - 2010.geojson') as f:\n",
    "    gj = geojson.load(f)\n",
    "features = gj['features']"
   ]
  },
  {
   "cell_type": "code",
   "execution_count": 31,
   "id": "03c29184",
   "metadata": {},
   "outputs": [],
   "source": [
    "\n",
    "#gets the tract number:\n",
    "Tracts = []\n",
    "for i in range(len(features)):\n",
    "    Tracts.append(features[i][\"properties\"]['tractce10'])\n",
    "    \n",
    "    \n",
    "alldata = pd.DataFrame(index = Tracts, columns = ['latitude', 'longitude']) \n",
    "\n",
    "for k in range(len(features)):\n",
    "    data = features[k]['geometry']['coordinates'][0][0]\n",
    "    df = pd.DataFrame(data, columns = [\"long\", \"lat\"])\n",
    "    alldata.loc[Tracts[k],'latitude'] = df['lat'].mean()\n",
    "    alldata.loc[Tracts[k],'longitude'] = df['long'].mean()\n",
    "    \n",
    "\n",
    "    "
   ]
  },
  {
   "cell_type": "code",
   "execution_count": 32,
   "id": "d31064f5",
   "metadata": {},
   "outputs": [
    {
     "name": "stdout",
     "output_type": "stream",
     "text": [
      "         latitude  longitude\n",
      "842400  41.740999 -87.630741\n",
      "840300  41.830196 -87.681894\n",
      "841100  41.850582 -87.634798\n",
      "841200  41.855443 -87.682474\n",
      "839000   41.87167 -87.631194\n",
      "...           ...        ...\n",
      "070400   41.92875 -87.656329\n",
      "070500  41.928656 -87.660789\n",
      "130300   41.98625 -87.712811\n",
      "292200   41.85691  -87.71541\n",
      "630900  41.789602 -87.708922\n",
      "\n",
      "[801 rows x 2 columns]\n"
     ]
    }
   ],
   "source": [
    "print(alldata)"
   ]
  },
  {
   "cell_type": "code",
   "execution_count": 34,
   "id": "b11824fd",
   "metadata": {},
   "outputs": [],
   "source": [
    "alldata.to_csv(r'/Users/jakefischer/DivvyScrape/tract_and_location.csv')"
   ]
  },
  {
   "cell_type": "code",
   "execution_count": null,
   "id": "57ca04cf",
   "metadata": {},
   "outputs": [],
   "source": []
  }
 ],
 "metadata": {
  "kernelspec": {
   "display_name": "Python 3",
   "language": "python",
   "name": "python3"
  },
  "language_info": {
   "codemirror_mode": {
    "name": "ipython",
    "version": 3
   },
   "file_extension": ".py",
   "mimetype": "text/x-python",
   "name": "python",
   "nbconvert_exporter": "python",
   "pygments_lexer": "ipython3",
   "version": "3.8.8"
  }
 },
 "nbformat": 4,
 "nbformat_minor": 5
}
