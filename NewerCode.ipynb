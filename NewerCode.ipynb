{
 "cells": [
  {
   "cell_type": "code",
   "execution_count": 1,
   "id": "aa403d06",
   "metadata": {},
   "outputs": [],
   "source": [
    "import requests\n",
    "import pandas as pd\n",
    "import time\n",
    "from time import ctime\n",
    "import pickle\n",
    "import os\n",
    "\n",
    "headers = {\n",
    "    'authority': 'account.divvybikes.com',\n",
    "    'sec-ch-ua': '\" Not;A Brand\";v=\"99\", \"Google Chrome\";v=\"91\", \"Chromium\";v=\"91\"',\n",
    "    'accept': '*/*',\n",
    "    'sec-ch-ua-mobile': '?0',\n",
    "    'user-agent': 'Mozilla/5.0 (Macintosh; Intel Mac OS X 10_14_6) AppleWebKit/537.36 (KHTML, like Gecko) Chrome/91.0.4472.114 Safari/537.36',\n",
    "    'content-type': 'application/json',\n",
    "    'origin': 'https://account.divvybikes.com',\n",
    "    'sec-fetch-site': 'same-origin',\n",
    "    'sec-fetch-mode': 'cors',\n",
    "    'sec-fetch-dest': 'empty',\n",
    "    'referer': 'https://account.divvybikes.com/map',\n",
    "    'accept-language': 'en-US,en;q=0.9',\n",
    "    'cookie': 'sessId=27980fde-5664-40bc-a77e-d336f1bc87e4L1625200883; _ga=GA1.2.22012294.1625200883; OptanonAlertBoxClosed=2021-07-02T04:41:26.613Z; _ga=GA1.3.22012294.1625200883; _gid=GA1.2.4210394.1626280437; _gid=GA1.3.4210394.1626280437; bfe-fpval=0; bfe-utm={}; _gat_UA-17974252-9=1; _gat_UA-1446928-23=1; OptanonConsent=isIABGlobal=false&datestamp=Wed+Jul+14+2021+11%3A54%3A39+GMT-0500+(Central+Daylight+Time)&version=6.4.0&landingPath=NotLandingPage&groups=1%3A1%2C2%3A0%2C3%3A0%2C4%3A0%2C0_286593%3A0%2C0_286594%3A0%2C0_286595%3A0%2C0_286596%3A0&AwaitingReconsent=false',\n",
    "}\n",
    "\n",
    "data = '{\"operationName\":\"GetSystemSupply\",\"variables\":{},\"query\":\"query GetSystemSupply {\\\\n supply {\\\\n stations {\\\\n stationId\\\\n stationName\\\\n location {\\\\n lat\\\\n lng\\\\n __typename\\\\n }\\\\n bikesAvailable\\\\n bikeDocksAvailable\\\\n ebikesAvailable\\\\n totalBikesAvailable\\\\n isValet\\\\n isOffline\\\\n isLightweight\\\\n displayMessages\\\\n siteId\\\\n ebikes {\\\\n batteryStatus {\\\\n distanceRemaining {\\\\n value\\\\n unit\\\\n __typename\\\\n }\\\\n percent\\\\n __typename\\\\n }\\\\n __typename\\\\n }\\\\n lastUpdatedMs\\\\n __typename\\\\n }\\\\n rideables {\\\\n location {\\\\n lat\\\\n lng\\\\n __typename\\\\n }\\\\n rideableType\\\\n batteryStatus {\\\\n distanceRemaining {\\\\n value\\\\n unit\\\\n __typename\\\\n }\\\\n percent\\\\n __typename\\\\n }\\\\n __typename\\\\n }\\\\n notices {\\\\n localizedTitle\\\\n localizedDescription\\\\n __typename\\\\n }\\\\n requestErrors {\\\\n localizedTitle\\\\n localizedDescription\\\\n __typename\\\\n }\\\\n __typename\\\\n }\\\\n}\\\\n\"}'\n",
    "\n",
    "def get_basic_info():\n",
    "    \n",
    "    r = requests.post('https://account.divvybikes.com/bikesharefe-gql', headers=headers, data=data).json()\n",
    "    stations = list(((r['data'])['supply'])['stations'])\n",
    "    stationNames = []\n",
    "    \n",
    "    for i in range(len(stations)):\n",
    "        stationNames.append(stations[i]['stationName'])\n",
    "    geotags = []\n",
    "    \n",
    "    for i in range(len(stations)):\n",
    "        geotags.append(stations[i]['location'])\n",
    "\n",
    "    lats = []\n",
    "    for i in range(len(geotags)):\n",
    "        lats.append(geotags[i]['lat'])\n",
    "     \n",
    "    longs = []\n",
    "    for i in range(len(geotags)):\n",
    "        longs.append(geotags[i]['lng'])\n",
    "    \n",
    "    df = pd.DataFrame(index = stationNames)\n",
    "    \n",
    "    df['lattitude'] = lats\n",
    "    df['longitude'] = longs\n",
    "\n",
    "    return df\n",
    "\n",
    "def get_more_info(prevdata):\n",
    "    \n",
    "    r = requests.post('https://account.divvybikes.com/bikesharefe-gql', headers=headers, data=data).json()\n",
    "    stations = list(((r['data'])['supply'])['stations'])\n",
    "    stationNames = []\n",
    "    \n",
    "    for i in range(len(stations)):\n",
    "        stationNames.append(stations[i]['stationName'])\n",
    "        \n",
    "    bikesAvailable = []\n",
    "    for i in range(len(stations)):\n",
    "        bikesAvailable.append(stations[i]['totalBikesAvailable'])\n",
    "    \n",
    "    \n",
    "    df = pd.DataFrame(index = stationNames)\n",
    "    df[ctime()] = bikesAvailable\n",
    "    \n",
    "    newdata = []\n",
    "    \n",
    "    for i in list(prevdata.index):\n",
    "        if i in list(df.index):\n",
    "            newdata.append(df.loc[i])\n",
    "        else:\n",
    "            newdata.append(float(\"nan\"))\n",
    "            \n",
    "    prevdata[list(df.columns)] = newdata\n",
    "    \n",
    "    return prevdata\n",
    "        "
   ]
  },
  {
   "cell_type": "code",
   "execution_count": 2,
   "id": "13edd6e3",
   "metadata": {},
   "outputs": [
    {
     "name": "stderr",
     "output_type": "stream",
     "text": [
      "/Users/jakefischer/opt/anaconda3/lib/python3.8/site-packages/numpy/core/_asarray.py:102: VisibleDeprecationWarning: Creating an ndarray from ragged nested sequences (which is a list-or-tuple of lists-or-tuples-or ndarrays with different lengths or shapes) is deprecated. If you meant to do this, you must specify 'dtype=object' when creating the ndarray.\n",
      "  return array(a, dtype, copy=False, order=order)\n"
     ]
    },
    {
     "ename": "KeyboardInterrupt",
     "evalue": "",
     "output_type": "error",
     "traceback": [
      "\u001b[0;31m---------------------------------------------------------------------------\u001b[0m",
      "\u001b[0;31mKeyboardInterrupt\u001b[0m                         Traceback (most recent call last)",
      "\u001b[0;32m<ipython-input-2-16a39f38e339>\u001b[0m in \u001b[0;36m<module>\u001b[0;34m\u001b[0m\n\u001b[1;32m      3\u001b[0m     \u001b[0mprev\u001b[0m \u001b[0;34m=\u001b[0m \u001b[0mget_more_info\u001b[0m\u001b[0;34m(\u001b[0m\u001b[0mprev\u001b[0m\u001b[0;34m)\u001b[0m\u001b[0;34m\u001b[0m\u001b[0;34m\u001b[0m\u001b[0m\n\u001b[1;32m      4\u001b[0m     \u001b[0mprev\u001b[0m\u001b[0;34m.\u001b[0m\u001b[0mto_csv\u001b[0m\u001b[0;34m(\u001b[0m\u001b[0;34mr'/Users/jakefischer/DivvyScrape/div_data5.csv'\u001b[0m\u001b[0;34m)\u001b[0m\u001b[0;34m\u001b[0m\u001b[0;34m\u001b[0m\u001b[0m\n\u001b[0;32m----> 5\u001b[0;31m     \u001b[0mtime\u001b[0m\u001b[0;34m.\u001b[0m\u001b[0msleep\u001b[0m\u001b[0;34m(\u001b[0m\u001b[0;36m60\u001b[0m\u001b[0;34m)\u001b[0m\u001b[0;34m\u001b[0m\u001b[0;34m\u001b[0m\u001b[0m\n\u001b[0m\u001b[1;32m      6\u001b[0m \u001b[0;34m\u001b[0m\u001b[0m\n\u001b[1;32m      7\u001b[0m \u001b[0;34m\u001b[0m\u001b[0m\n",
      "\u001b[0;31mKeyboardInterrupt\u001b[0m: "
     ]
    }
   ],
   "source": [
    "prev= get_basic_info()\n",
    "for i in range(180):\n",
    "    prev = get_more_info(prev)\n",
    "    prev.to_csv(r'/Users/jakefischer/DivvyScrape/div_data5.csv')\n",
    "    time.sleep(60)\n",
    "\n",
    "    "
   ]
  },
  {
   "cell_type": "code",
   "execution_count": null,
   "id": "350b8dbf",
   "metadata": {},
   "outputs": [],
   "source": []
  },
  {
   "cell_type": "code",
   "execution_count": null,
   "id": "88554405",
   "metadata": {},
   "outputs": [],
   "source": []
  }
 ],
 "metadata": {
  "kernelspec": {
   "display_name": "Python 3",
   "language": "python",
   "name": "python3"
  },
  "language_info": {
   "codemirror_mode": {
    "name": "ipython",
    "version": 3
   },
   "file_extension": ".py",
   "mimetype": "text/x-python",
   "name": "python",
   "nbconvert_exporter": "python",
   "pygments_lexer": "ipython3",
   "version": "3.8.8"
  }
 },
 "nbformat": 4,
 "nbformat_minor": 5
}
