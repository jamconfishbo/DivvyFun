{
 "cells": [
  {
   "cell_type": "code",
   "execution_count": 36,
   "id": "17053acf",
   "metadata": {},
   "outputs": [],
   "source": [
    "import pandas as pd\n",
    "import numpy as np"
   ]
  },
  {
   "cell_type": "code",
   "execution_count": 155,
   "id": "0316f866",
   "metadata": {},
   "outputs": [
    {
     "data": {
      "text/plain": [
       "Index(['ride_id', 'rideable_type', 'started_at', 'ended_at',\n",
       "       'start_station_name', 'start_station_id', 'end_station_name',\n",
       "       'end_station_id', 'start_lat', 'start_lng', 'end_lat', 'end_lng',\n",
       "       'member_casual'],\n",
       "      dtype='object')"
      ]
     },
     "execution_count": 155,
     "metadata": {},
     "output_type": "execute_result"
    }
   ],
   "source": [
    "file = r'/Users/jakefischer/Downloads/202004-divvy-tripdata.csv'\n",
    "\n",
    "\n",
    "df= pd.read_csv(file)\n",
    "df.index = df[\"start_station_name\"]\n",
    "df\n",
    "\n",
    "\n",
    "traffic = pd.DataFrame()\n",
    "sta = []\n",
    "lat = []\n",
    "long = []\n",
    "rides = []\n",
    "# for i in list(df.index):\n",
    "#     mindf = pd.DataFrame(df.loc[i])\n",
    "#     sta.append(list(mindf[\"start_station_name\"])[0])\n",
    "#     lat.append(mindf[\"start_lat\"][0])\n",
    "#     long.append(mindf[\"start_lng\"][0])\n",
    "#     rides.append(len(list(mindf.index)))\n",
    "# print(mindf)\n",
    "\n",
    "x = pd.DataFrame(df.loc[df.index[0]])\n",
    "x.columns"
   ]
  },
  {
   "cell_type": "code",
   "execution_count": 117,
   "id": "08466a15",
   "metadata": {},
   "outputs": [
    {
     "name": "stdout",
     "output_type": "stream",
     "text": [
      "0.7212890440690761\n",
      "0.2787109559309238\n"
     ]
    }
   ],
   "source": [
    "who = list(df[\"member_casual\"])\n",
    "members = 0\n",
    "casual = 0\n",
    "\n",
    "for i in who:\n",
    "    if i == \"member\":\n",
    "        members = members+1\n",
    "        \n",
    "    else:\n",
    "        casual = casual+1\n",
    "        \n",
    "#the percentage of customers who are members and casual users respectivly\n",
    "print(members/len(who))\n",
    "print(casual/len(who))"
   ]
  },
  {
   "cell_type": "code",
   "execution_count": 65,
   "id": "ddef17e1",
   "metadata": {},
   "outputs": [],
   "source": [
    "stations = list(df[\"start_station_name\"])\n",
    "stations = list(dict.fromkeys(stations))"
   ]
  },
  {
   "cell_type": "code",
   "execution_count": 67,
   "id": "4a89823f",
   "metadata": {},
   "outputs": [],
   "source": [
    "traffic = pd.DataFrame(index = stations, columns = [\"rides\"], data = np.zeros(len(traffic.index)))\n",
    "\n",
    "for k in list(df[\"start_station_name\"]):\n",
    "    traffic.loc[k,\"rides\"]= traffic.loc[k,\"rides\"]+1\n",
    "    "
   ]
  },
  {
   "cell_type": "code",
   "execution_count": 120,
   "id": "7816de5b",
   "metadata": {},
   "outputs": [],
   "source": [
    "traffic = traffic.sort_values(by=['rides'], ascending=False)\n"
   ]
  },
  {
   "cell_type": "code",
   "execution_count": 126,
   "id": "eaebe175",
   "metadata": {},
   "outputs": [
    {
     "data": {
      "text/plain": [
       "41.903"
      ]
     },
     "execution_count": 126,
     "metadata": {},
     "output_type": "execute_result"
    }
   ],
   "source": [
    "list(df.loc[traffic.index[0],\"start_lat\"])[0]"
   ]
  },
  {
   "cell_type": "code",
   "execution_count": null,
   "id": "90eb3eed",
   "metadata": {},
   "outputs": [],
   "source": []
  },
  {
   "cell_type": "code",
   "execution_count": null,
   "id": "9c5bd38f",
   "metadata": {},
   "outputs": [],
   "source": []
  },
  {
   "cell_type": "code",
   "execution_count": null,
   "id": "e149e84b",
   "metadata": {},
   "outputs": [],
   "source": []
  },
  {
   "cell_type": "code",
   "execution_count": null,
   "id": "e550468c",
   "metadata": {},
   "outputs": [],
   "source": [
    "import matplotlib.pyplot as plt\n",
    "x = np.linspace(start = 0,stop = 100, num = len(list(traffic.index)))\n",
    "y =np.log(list(traffic[\"rides\"]))\n",
    "\n",
    "A = np.vstack([x, np.ones(len(x))]).T\n",
    "\n",
    "m,c = np.linalg.lstsq(A, y, rcond=None)[0]\n",
    "\n",
    "\n",
    "\n",
    "\n",
    "\n",
    "plt.plot(x,np.exp(y), \"o\")\n",
    "plt.plot(x, np.exp(m*x)*np.exp(c), 'r', label='Fitted line')\n",
    "plt.show()"
   ]
  }
 ],
 "metadata": {
  "kernelspec": {
   "display_name": "Python 3",
   "language": "python",
   "name": "python3"
  },
  "language_info": {
   "codemirror_mode": {
    "name": "ipython",
    "version": 3
   },
   "file_extension": ".py",
   "mimetype": "text/x-python",
   "name": "python",
   "nbconvert_exporter": "python",
   "pygments_lexer": "ipython3",
   "version": "3.8.8"
  }
 },
 "nbformat": 4,
 "nbformat_minor": 5
}
