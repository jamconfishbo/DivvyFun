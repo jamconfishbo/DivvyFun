{
 "cells": [
  {
   "cell_type": "code",
   "execution_count": 13,
   "id": "0090559b",
   "metadata": {},
   "outputs": [],
   "source": [
    "import sys\n",
    "#!{sys.executable} -m pip install bs4\n",
    "#!{sys.executable} -m pip install lxml\n",
    "from lxml import etree\n",
    "from bs4 import BeautifulSoup\n",
    "import requests"
   ]
  },
  {
   "cell_type": "code",
   "execution_count": 14,
   "id": "10f148b8",
   "metadata": {},
   "outputs": [],
   "source": [
    "url = 'https://statisticalatlas.com/place/Illinois/Chicago/Population'\n",
    "soup = BeautifulSoup(requests.get(url).text, 'html.parser')\n"
   ]
  },
  {
   "cell_type": "code",
   "execution_count": null,
   "id": "4e1bc6ad",
   "metadata": {},
   "outputs": [],
   "source": [
    "#use this to find the city blocks\n",
    "labels = []\n",
    "for i in range(1251):\n",
    "    stringer = str(r'dmHover(evt, 1, 2, ' + str(i)+');')\n",
    "    labels.append(soup.find(onmouseover = stringer))\n",
    "\n"
   ]
  },
  {
   "cell_type": "code",
   "execution_count": 4,
   "id": "ca62a109",
   "metadata": {},
   "outputs": [],
   "source": [
    "labels= list(filter(None.__ne__, labels))    \n",
    "tiks = list(filter(lambda x: \"/tract/Illinois/Cook-County/\" in str(x), labels ))\n",
    "\n",
    "\n"
   ]
  },
  {
   "cell_type": "code",
   "execution_count": 6,
   "id": "7fcc14e4",
   "metadata": {},
   "outputs": [],
   "source": [
    "blocklinks = []\n",
    "\n",
    "for i in tiks:\n",
    "    blocklinks.append(i[\"xlink:href\"])\n",
    " \n",
    "    \n",
    "blockers = []\n",
    "for k in blocklinks:\n",
    "    blockers.append(str('https://statisticalatlas.com')+str(k))\n",
    "    "
   ]
  },
  {
   "cell_type": "code",
   "execution_count": 7,
   "id": "75904500",
   "metadata": {},
   "outputs": [],
   "source": [
    "tracts = []\n",
    "\n",
    "for s in blockers:\n",
    "    tracts.append(s.replace('https://statisticalatlas.com/tract/Illinois/Cook-County/', '').replace(\"/Population\", ''))"
   ]
  },
  {
   "cell_type": "code",
   "execution_count": null,
   "id": "113c182c",
   "metadata": {},
   "outputs": [],
   "source": [
    "tractpop = []\n",
    "for i in range(len(blockers)):\n",
    "    url = blockers[i]\n",
    "    soup = BeautifulSoup(requests.get(url).text, 'html.parser')\n",
    "    popdata = soup.find(\"div\", class_ = \"sidebar-info-table clearfix\")\n",
    "    tractpop.append(int(popdata.find(\"td\").contents[0].replace(\",\",\"\")))\n",
    "    \n",
    "    \n",
    "import pandas as pd\n",
    "alldata = pd.DataFrame()\n",
    "alldata[\"tracts\"] = tracts\n",
    "alldata[\"population\"] = tractpop"
   ]
  },
  {
   "cell_type": "code",
   "execution_count": 90,
   "id": "79444cdd",
   "metadata": {},
   "outputs": [],
   "source": [
    "alldata.to_csv(r'/Users/jakefischer/DivvyScrape/tract_populations.csv')\n"
   ]
  },
  {
   "cell_type": "code",
   "execution_count": null,
   "id": "94c60758",
   "metadata": {},
   "outputs": [],
   "source": []
  },
  {
   "cell_type": "code",
   "execution_count": null,
   "id": "4abbb15d",
   "metadata": {},
   "outputs": [],
   "source": []
  },
  {
   "cell_type": "code",
   "execution_count": 112,
   "id": "583c4ab0",
   "metadata": {},
   "outputs": [],
   "source": []
  },
  {
   "cell_type": "code",
   "execution_count": null,
   "id": "3dcf2d54",
   "metadata": {},
   "outputs": [],
   "source": []
  },
  {
   "cell_type": "code",
   "execution_count": null,
   "id": "d6ab3f2b",
   "metadata": {},
   "outputs": [],
   "source": []
  },
  {
   "cell_type": "code",
   "execution_count": null,
   "id": "78376e11",
   "metadata": {},
   "outputs": [],
   "source": []
  }
 ],
 "metadata": {
  "kernelspec": {
   "display_name": "Python 3",
   "language": "python",
   "name": "python3"
  },
  "language_info": {
   "codemirror_mode": {
    "name": "ipython",
    "version": 3
   },
   "file_extension": ".py",
   "mimetype": "text/x-python",
   "name": "python",
   "nbconvert_exporter": "python",
   "pygments_lexer": "ipython3",
   "version": "3.8.8"
  }
 },
 "nbformat": 4,
 "nbformat_minor": 5
}
