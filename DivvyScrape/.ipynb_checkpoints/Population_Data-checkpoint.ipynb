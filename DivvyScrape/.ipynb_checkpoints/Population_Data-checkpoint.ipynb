{
 "cells": [
  {
   "cell_type": "code",
   "execution_count": 4,
   "id": "0090559b",
   "metadata": {},
   "outputs": [],
   "source": [
    "import sys\n",
    "#!{sys.executable} -m pip install bs4\n",
    "#!{sys.executable} -m pip install lxml\n",
    "from lxml import etree\n",
    "from bs4 import BeautifulSoup\n",
    "import requests\n",
    "import pandas as pd\n"
   ]
  },
  {
   "cell_type": "code",
   "execution_count": 5,
   "id": "10f148b8",
   "metadata": {},
   "outputs": [],
   "source": [
    "url = 'https://statisticalatlas.com/place/Illinois/Chicago/Population'\n",
    "soup = BeautifulSoup(requests.get(url).text, 'html.parser')\n",
    "\n",
    "#use this to find the city blocks\n",
    "labels = []\n",
    "for i in range(1251):\n",
    "    stringer = str(r'dmHover(evt, 1, 2, ' + str(i)+');')\n",
    "    labels.append(soup.find(onmouseover = stringer))\n",
    "\n",
    "    \n",
    "    \n",
    "labels= list(filter(None.__ne__, labels))    \n",
    "tiks = list(filter(lambda x: \"/tract/Illinois/Cook-County/\" in str(x), labels ))\n",
    "\n",
    "#tiks is a filtered version of labels\n",
    "\n",
    "\n",
    "blocklinks = []\n",
    "\n",
    "for i in tiks:\n",
    "    blocklinks.append(i[\"xlink:href\"])\n",
    " \n",
    "    \n",
    "blockers = []\n",
    "for k in blocklinks:\n",
    "    blockers.append(str('https://statisticalatlas.com')+str(k))\n",
    "\n",
    "\n",
    "tracts = []\n",
    "\n",
    "for s in blockers:\n",
    "    tracts.append(s.replace('https://statisticalatlas.com/tract/Illinois/Cook-County/', '').replace(\"/Population\", ''))\n",
    "        \n",
    "tractpop = []\n",
    "for i in range(len(blockers)):\n",
    "    url = blockers[i]\n",
    "    soup = BeautifulSoup(requests.get(url).text, 'html.parser')\n",
    "    popdata = soup.find(\"div\", class_ = \"sidebar-info-table clearfix\")\n",
    "    tractpop.append(int(popdata.find(\"td\").contents[0].replace(\",\",\"\")))\n",
    "    \n",
    "    \n",
    "alldata = pd.DataFrame()\n",
    "alldata[\"tracts\"] = tracts\n",
    "alldata[\"population\"] = tractpop"
   ]
  },
  {
   "cell_type": "code",
   "execution_count": 13,
   "id": "4abbb15d",
   "metadata": {},
   "outputs": [
    {
     "name": "stderr",
     "output_type": "stream",
     "text": [
      "<ipython-input-13-dbfca5bb10fe>:4: SettingWithCopyWarning: \n",
      "A value is trying to be set on a copy of a slice from a DataFrame\n",
      "\n",
      "See the caveats in the documentation: https://pandas.pydata.org/pandas-docs/stable/user_guide/indexing.html#returning-a-view-versus-a-copy\n",
      "  tracts[i] = \"tract: \" + tracts[i]\n"
     ]
    },
    {
     "data": {
      "text/plain": [
       "0      tract: 660500\n",
       "1      tract: 230500\n",
       "2      tract: 251700\n",
       "3      tract: 390200\n",
       "4      tract: 431301\n",
       "           ...      \n",
       "795    tract: 350100\n",
       "796    tract: 730100\n",
       "797    tract: 690300\n",
       "798    tract: 051400\n",
       "799    tract: 243400\n",
       "Name: tracts, Length: 800, dtype: object"
      ]
     },
     "execution_count": 13,
     "metadata": {},
     "output_type": "execute_result"
    }
   ],
   "source": [
    "tracts = alldata[\"tracts\"]\n",
    "\n",
    "for i in range(len(tracts)):\n",
    "    tracts[i] = \"tract: \" + tracts[i]\n",
    "    \n",
    "tracts\n",
    "    \n",
    "    \n",
    "    "
   ]
  },
  {
   "cell_type": "code",
   "execution_count": 17,
   "id": "3dcf2d54",
   "metadata": {},
   "outputs": [],
   "source": [
    "alldata.to_csv(r'/Users/jakefischer/Divvy_repo/DivvyScrape/tract_populations.csv')\n"
   ]
  },
  {
   "cell_type": "code",
   "execution_count": null,
   "id": "95fe7674",
   "metadata": {},
   "outputs": [],
   "source": []
  }
 ],
 "metadata": {
  "kernelspec": {
   "display_name": "Python 3",
   "language": "python",
   "name": "python3"
  },
  "language_info": {
   "codemirror_mode": {
    "name": "ipython",
    "version": 3
   },
   "file_extension": ".py",
   "mimetype": "text/x-python",
   "name": "python",
   "nbconvert_exporter": "python",
   "pygments_lexer": "ipython3",
   "version": "3.8.8"
  }
 },
 "nbformat": 4,
 "nbformat_minor": 5
}
