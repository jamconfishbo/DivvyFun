{
 "cells": [
  {
   "cell_type": "code",
   "execution_count": 1,
   "id": "b6ff4d71",
   "metadata": {},
   "outputs": [],
   "source": [
    "import sys\n",
    "#!{sys.executable} -m pip install geojson\n",
    "\n",
    "import geojson\n",
    "import pandas as pd"
   ]
  },
  {
   "cell_type": "code",
   "execution_count": 2,
   "id": "abfecd92",
   "metadata": {},
   "outputs": [],
   "source": [
    "import geojson\n",
    "with open(r'/Users/jakefischer/desktop/Boundaries - Census Tracts - 2010.geojson') as f:\n",
    "    gj = geojson.load(f)\n",
    "features = gj['features']"
   ]
  },
  {
   "cell_type": "code",
   "execution_count": 9,
   "id": "03c29184",
   "metadata": {},
   "outputs": [],
   "source": [
    "\n",
    "#gets the tract number:\n",
    "Tracts = []\n",
    "for i in range(len(features)):\n",
    "    #makes the thing being appended a string\n",
    "    #Tracts.append(str(features[i][\"properties\"]['tractce10']))\n",
    "    \n",
    "    Tracts.append(\"tract: \" + str(features[i][\"properties\"]['tractce10']))\n",
    "\n",
    "    \n",
    "    \n",
    "alldata = pd.DataFrame( columns = ['latitude', 'longitude', \"tract\"]) \n",
    "\n",
    "for k in range(len(features)):\n",
    "    data = features[k]['geometry']['coordinates'][0][0]\n",
    "    df = pd.DataFrame(data, columns = [\"long\", \"lat\"])\n",
    "    alldata.loc[Tracts[k],'latitude'] = df['lat'].mean()\n",
    "    alldata.loc[Tracts[k],'longitude'] = df['long'].mean()\n",
    "    \n",
    "\n",
    "alldata[\"tract\"]= Tracts"
   ]
  },
  {
   "cell_type": "code",
   "execution_count": null,
   "id": "60f6e0d3",
   "metadata": {},
   "outputs": [],
   "source": []
  },
  {
   "cell_type": "code",
   "execution_count": 12,
   "id": "b11824fd",
   "metadata": {},
   "outputs": [],
   "source": [
    "alldata.to_csv(r'/Users/jakefischer/Divvy_repo/DivvyScrape/tract_and_location1.csv')"
   ]
  },
  {
   "cell_type": "code",
   "execution_count": null,
   "id": "05e12cd3",
   "metadata": {},
   "outputs": [],
   "source": []
  }
 ],
 "metadata": {
  "kernelspec": {
   "display_name": "Python 3",
   "language": "python",
   "name": "python3"
  },
  "language_info": {
   "codemirror_mode": {
    "name": "ipython",
    "version": 3
   },
   "file_extension": ".py",
   "mimetype": "text/x-python",
   "name": "python",
   "nbconvert_exporter": "python",
   "pygments_lexer": "ipython3",
   "version": "3.8.8"
  }
 },
 "nbformat": 4,
 "nbformat_minor": 5
}
