{
 "cells": [
  {
   "cell_type": "code",
   "execution_count": 12,
   "id": "17053acf",
   "metadata": {},
   "outputs": [],
   "source": [
    "import pandas as pd\n",
    "import numpy as np"
   ]
  },
  {
   "cell_type": "code",
   "execution_count": 13,
   "id": "0316f866",
   "metadata": {
    "scrolled": true
   },
   "outputs": [],
   "source": [
    "file = r'/Users/jakefischer/Downloads/202004-divvy-tripdata.csv'\n",
    "\n",
    "\n",
    "df= pd.read_csv(file)\n",
    "df.index = df[\"start_station_name\"]\n",
    "\n",
    "stations = list(df[\"start_station_name\"])\n",
    "\n",
    "sta = list()\n",
    "for i in stations:\n",
    "    if i not in sta:\n",
    "        sta.append(i)\n",
    "        \n",
    "\n",
    "numrides = []\n",
    "lat = list()\n",
    "long = list()\n",
    "\n",
    "for k in sta:\n",
    "    numrides.append(df.loc[k].shape[0])\n",
    "    #lat.append(df.loc[k,\"start_lat\"].iloc[0])\n",
    "    #long.append(df.loc[k,\"start_lng\"].iloc[0])\n",
    "    \n",
    "    try:\n",
    "        lat.append(df.loc[k,\"start_lat\"][0])\n",
    "        \n",
    "    except IndexError:\n",
    "        lat.append(df.loc[k,\"start_lat\"])\n",
    "        \n",
    "        \n",
    "    try:\n",
    "        long.append(df.loc[k,\"start_lng\"][0])\n",
    "        \n",
    "    except IndexError:\n",
    "        long.append(df.loc[k,\"start_lng\"])\n",
    "\n",
    "    \n",
    "ridinfo = pd.DataFrame()\n",
    "ridinfo[\"stations\"] = sta\n",
    "ridinfo[\"numrides\"] = numrides\n",
    "ridinfo[\"latitudes\"] = lat\n",
    "ridinfo[\"longitudes\"] = long\n",
    " \n",
    "\n",
    "ridinfo = ridinfo.sort_values(by=['numrides'], ascending=False)\n",
    "\n",
    "\n",
    "import folium\n",
    "\n",
    "lat = ridinfo['latitudes'].to_numpy()\n",
    "long = ridinfo['longitudes'].to_numpy()\n",
    "map = folium.Map(location=[lat.mean(), long.mean()], zoom_start=14, control_scale=True)\n",
    "\n",
    "\n",
    "k = 200\n",
    "for i in range(k):\n",
    "   folium.Marker(location=[lat[i], long[i]], popup = ridinfo.iloc[i][0], icon=folium.Icon(color='red')).add_to(map)\n",
    "\n",
    "for i in range(k, ridinfo.shape[0]):\n",
    "    folium.Marker(location=[lat[i], long[i]], popup = ridinfo.iloc[i][0], icon=folium.Icon(color='blue')).add_to(map)\n",
    "\n",
    "map\n",
    "map.save(\"index1.html\")"
   ]
  },
  {
   "cell_type": "code",
   "execution_count": 7,
   "id": "34e96bc7",
   "metadata": {},
   "outputs": [],
   "source": [
    "from folium.plugins import HeatMap\n",
    "numrides = list(ridinfo[\"numrides\"])\n",
    "heat_data = list()\n",
    "for i in range((ridinfo.shape[0])):\n",
    "    heat_data.append((lat[i], long[i],numrides[i]))\n",
    "\n",
    "map2 = folium.Map(location=[lat.mean(), long.mean()], zoom_start=14, control_scale=True)\n",
    "map2.add_child(HeatMap(heat_data, overlay=False,max_zoom= 5, min_opacity =0.25, blur = 10))\n",
    "map2.save(\"index.html\")\n"
   ]
  },
  {
   "cell_type": "code",
   "execution_count": 11,
   "id": "52944a31",
   "metadata": {},
   "outputs": [
    {
     "name": "stdout",
     "output_type": "stream",
     "text": [
      "/Users/jakefischer/Divvy_repo/DivvyScrape\n"
     ]
    }
   ],
   "source": [
    "import os\n",
    "print(os.getcwd())"
   ]
  },
  {
   "cell_type": "code",
   "execution_count": null,
   "id": "4226d715",
   "metadata": {},
   "outputs": [],
   "source": []
  },
  {
   "cell_type": "code",
   "execution_count": null,
   "id": "92ac3a29",
   "metadata": {},
   "outputs": [],
   "source": []
  },
  {
   "cell_type": "code",
   "execution_count": null,
   "id": "6afaeb7c",
   "metadata": {},
   "outputs": [],
   "source": []
  },
  {
   "cell_type": "code",
   "execution_count": 117,
   "id": "08466a15",
   "metadata": {},
   "outputs": [
    {
     "name": "stdout",
     "output_type": "stream",
     "text": [
      "0.7212890440690761\n",
      "0.2787109559309238\n"
     ]
    }
   ],
   "source": [
    "#percentage of membership usage versus casual usage\n",
    "\n",
    "who = list(df[\"member_casual\"])\n",
    "members = 0\n",
    "casual = 0\n",
    "\n",
    "for i in who:\n",
    "    if i == \"member\":\n",
    "        members = members+1\n",
    "        \n",
    "    else:\n",
    "        casual = casual+1\n",
    "        \n",
    "#the percentage of customers who are members and casual users respectivly\n",
    "print(members/len(who))\n",
    "print(casual/len(who))"
   ]
  },
  {
   "cell_type": "code",
   "execution_count": 65,
   "id": "ddef17e1",
   "metadata": {},
   "outputs": [],
   "source": []
  },
  {
   "cell_type": "code",
   "execution_count": 67,
   "id": "4a89823f",
   "metadata": {},
   "outputs": [],
   "source": [
    "traffic = pd.DataFrame(index = stations, columns = [\"rides\"], data = np.zeros(len(traffic.index)))\n",
    "\n",
    "for k in list(df[\"start_station_name\"]):\n",
    "    traffic.loc[k,\"rides\"]= traffic.loc[k,\"rides\"]+1\n",
    "    "
   ]
  },
  {
   "cell_type": "code",
   "execution_count": 120,
   "id": "7816de5b",
   "metadata": {},
   "outputs": [],
   "source": [
    "traffic = traffic.sort_values(by=['rides'], ascending=False)\n"
   ]
  },
  {
   "cell_type": "code",
   "execution_count": null,
   "id": "eaebe175",
   "metadata": {},
   "outputs": [],
   "source": []
  },
  {
   "cell_type": "code",
   "execution_count": null,
   "id": "90eb3eed",
   "metadata": {},
   "outputs": [],
   "source": []
  },
  {
   "cell_type": "code",
   "execution_count": null,
   "id": "9c5bd38f",
   "metadata": {},
   "outputs": [],
   "source": []
  },
  {
   "cell_type": "code",
   "execution_count": null,
   "id": "e149e84b",
   "metadata": {},
   "outputs": [],
   "source": []
  },
  {
   "cell_type": "code",
   "execution_count": null,
   "id": "e550468c",
   "metadata": {},
   "outputs": [],
   "source": [
    "import matplotlib.pyplot as plt\n",
    "x = np.linspace(start = 0,stop = 100, num = len(list(traffic.index)))\n",
    "y =np.log(list(traffic[\"rides\"]))\n",
    "\n",
    "A = np.vstack([x, np.ones(len(x))]).T\n",
    "\n",
    "m,c = np.linalg.lstsq(A, y, rcond=None)[0]\n",
    "\n",
    "\n",
    "\n",
    "\n",
    "\n",
    "plt.plot(x,np.exp(y), \"o\")\n",
    "plt.plot(x, np.exp(m*x)*np.exp(c), 'r', label='Fitted line')\n",
    "plt.show()"
   ]
  }
 ],
 "metadata": {
  "kernelspec": {
   "display_name": "Python 3",
   "language": "python",
   "name": "python3"
  },
  "language_info": {
   "codemirror_mode": {
    "name": "ipython",
    "version": 3
   },
   "file_extension": ".py",
   "mimetype": "text/x-python",
   "name": "python",
   "nbconvert_exporter": "python",
   "pygments_lexer": "ipython3",
   "version": "3.8.8"
  }
 },
 "nbformat": 4,
 "nbformat_minor": 5
}
