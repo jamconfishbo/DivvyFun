{
 "cells": [
  {
   "cell_type": "code",
   "execution_count": null,
   "id": "c4ed72c4",
   "metadata": {},
   "outputs": [],
   "source": [
    "#This code will hopefully compare divvy bike traffic vs total population per census tract\n",
    "#previous code did not work because of issues with data type saving\n",
    "\n",
    "\n"
   ]
  }
 ],
 "metadata": {
  "kernelspec": {
   "display_name": "Python 3",
   "language": "python",
   "name": "python3"
  },
  "language_info": {
   "codemirror_mode": {
    "name": "ipython",
    "version": 3
   },
   "file_extension": ".py",
   "mimetype": "text/x-python",
   "name": "python",
   "nbconvert_exporter": "python",
   "pygments_lexer": "ipython3",
   "version": "3.8.8"
  }
 },
 "nbformat": 4,
 "nbformat_minor": 5
}
